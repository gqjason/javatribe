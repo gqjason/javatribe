{
 "cells": [
  {
   "cell_type": "markdown",
   "id": "92ccf4e2",
   "metadata": {},
   "source": [
    "# 基础算法"
   ]
  },
  {
   "cell_type": "markdown",
   "id": "7123312b",
   "metadata": {},
   "source": [
    "- 二分：学习网站 [OI Wiki](https://oi-wiki.org/basic/binary/)，b站: [蛋从几层楼往下丢才会碎？一个视频讲明白【NotOnlySuccess】](https://www.bilibili.com/video/BV1DzXzYPEYT/?spm_id_from=333.337.search-card.all.click&vd_source=933c136d6897dbf20ff125fb1209208f) \n",
    "- 前缀和差分：学习网站： [OI Wiki](https://oi-wiki.org/basic/prefix-sum/) ，b站：[前缀和及其变种，十道题检验你是不是真的学会了【NotOnlySuccess】](https://www.bilibili.com/video/BV1xKfyY9EkN/?spm_id_from=333.1387.upload.video_card.click&vd_source=933c136d6897dbf20ff125fb1209208f) 。\n",
    "- 递归：学习网站：[OI Wiki](https://oi-wiki.org/basic/divide-and-conquer/)，B站：[【递归1】递归中的逆向思维【五点七边】](https://www.bilibili.com/video/BV1214y157HG?spm_id_from=333.788.recommend_more_video.-1&vd_source=933c136d6897dbf20ff125fb1209208f)，[有个说法：“「递归」是检验编程天赋的试金石”；而本视频打破天赋壁垒，助你快速掌握递归。【NotOnlySuccess】](https://www.bilibili.com/video/BV1LiS1YSEgF/?spm_id_from=333.337.search-card.all.click&vd_source=933c136d6897dbf20ff125fb1209208f)\n",
    "- 归并排序：学习网站：[OI Wiki](https://oi-wiki.org/basic/merge-sort/)，B站：[【排序算法精华2】归并排序【五点七边】](https://www.bilibili.com/video/BV1Ma4y1n7E2/?spm_id_from=333.337.search-card.all.click&vd_source=933c136d6897dbf20ff125fb1209208f)"
   ]
  },
  {
   "cell_type": "markdown",
   "id": "e4d6dcab",
   "metadata": {},
   "source": [
    "# 搜索"
   ]
  },
  {
   "cell_type": "markdown",
   "id": "f443f19f",
   "metadata": {},
   "source": [
    "- dfs：学习网站：[OI Wiki](https://oi-wiki.org/search/dfs/)，B站：[图的算法-DFS深度优先遍历搜索算法 数据结构与算法【图码】](https://www.bilibili.com/video/BV17Y4UefEzs/?spm_id_from=333.337.search-card.all.click&vd_source=933c136d6897dbf20ff125fb1209208f)"
   ]
  },
  {
   "cell_type": "markdown",
   "id": "956791e5",
   "metadata": {},
   "source": [
    "# DP"
   ]
  },
  {
   "cell_type": "markdown",
   "id": "0ce1ee3c",
   "metadata": {},
   "source": [
    "- "
   ]
  },
  {
   "cell_type": "markdown",
   "id": "09b43705",
   "metadata": {},
   "source": [
    "# 字符串"
   ]
  },
  {
   "cell_type": "markdown",
   "id": "7547ffbf",
   "metadata": {},
   "source": [
    "- 字典树：学习网站：[OI Wiki](https://oi-wiki.org/string/trie/)，B站：[字典树（前缀树、Trie树）【_justTrying】](https://www.bilibili.com/video/BV1ZtcBewEbJ/?spm_id_from=333.337.search-card.all.click)，[F06 字典树(Trie)——信息学竞赛算法【董晓算法】](https://www.bilibili.com/video/BV1yA4y1Z74t/?spm_id_from=333.337.search-card.all.click&vd_source=933c136d6897dbf20ff125fb1209208f)\n",
    "- 字符串哈希：学习网站：[OI Wiki](https://oi-wiki.org/string/hash/)，B站：[算法讲解105【扩展】字符串哈希原理、代码、题目详解【左程云】](https://www.bilibili.com/video/BV1hu4m1A7AF/?spm_id_from=333.337.search-card.all.click&vd_source=933c136d6897dbf20ff125fb1209208f)，[F02 字符串哈希【董晓算法】](https://www.bilibili.com/video/BV1Ha411E7re/?spm_id_from=333.337.search-card.all.click)"
   ]
  },
  {
   "cell_type": "markdown",
   "id": "f3f9e536",
   "metadata": {},
   "source": [
    "# 数学"
   ]
  },
  {
   "cell_type": "markdown",
   "id": "ee01a23c",
   "metadata": {},
   "source": [
    "- 快速幂：学习网站：[OI Wiki](https://oi-wiki.org/math/binary-exponentiation/) ，B站：[快速幂都能做什么？小小的算法也有大大的梦想【五点七边】](https://www.bilibili.com/video/BV16Z4y1M7y1/?spm_id_from=333.337.search-card.all.click&vd_source=933c136d6897dbf20ff125fb1209208f)\n",
    "- 快速幂&龟速乘&快速乘：学习网站：[(洛谷)快速幂&龟速乘&快速乘](https://www.luogu.com/article/rdvf1eo7)，B站：[快速幂都能做什么？小小的算法也有大大的梦想【五点七边】](https://www.bilibili.com/video/BV16Z4y1M7y1/?spm_id_from=333.337.search-card.all.click&vd_source=933c136d6897dbf20ff125fb1209208f)\n",
    "- 逆元：学习网站：[OI Wiki](https://oi-wiki.org/math/number-theory/inverse/) ，B站：[算法讲解099【扩展】 逆元和除法同余、容斥原理【左程云】](https://www.bilibili.com/video/BV1SW4y1F7Tq/?spm_id_from=333.337.search-card.all.click&vd_source=933c136d6897dbf20ff125fb1209208f)\n",
    "- 质数：质数判断：[OI Wiki](https://oi-wiki.org/math/number-theory/prime/)；质数筛：[OI Wiki](https://oi-wiki.org/math/number-theory/sieve/)，B站：[算法讲解097【必备】质数判断、质因子分解、质数筛【左程云】](https://www.bilibili.com/video/BV1oK4y1z7ML/?spm_id_from=333.337.search-card.all.click&vd_source=933c136d6897dbf20ff125fb1209208f)"
   ]
  },
  {
   "cell_type": "markdown",
   "id": "1f1a1010",
   "metadata": {},
   "source": [
    "# 数据结构"
   ]
  },
  {
   "cell_type": "markdown",
   "id": "715d1b95",
   "metadata": {},
   "source": [
    "- 优先队列：学习网站 [(csdn)【原创】优先队列 priority_queue 详解](https://blog.csdn.net/c20182030/article/details/70757660)，b站: [【从堆的定义到优先队列、堆排序】 10分钟看懂必考的数据结构——堆【工程部老周】](https://www.bilibili.com/video/BV1AF411G7cA/?spm_id_from=333.337.search-card.all.click&vd_source=933c136d6897dbf20ff125fb1209208f)\n",
    "- 线段树：学习网站：[OI Wiki](https://oi-wiki.org/ds/seg/)，B站：[线段树【_justTrying】](https://www.bilibili.com/video/BV1vhPoeXEFf/?spm_id_from=333.337.search-card.all.click&vd_source=933c136d6897dbf20ff125fb1209208f)\n",
    "- 树状数组：学习网站：[OI Wiki](https://oi-wiki.org/ds/fenwick/)，B站：[【C++】七分三十秒，树状数组（洛谷P3374）_动画演示_思路分析_代码实现【诸葛喵】](https://www.bilibili.com/video/BV14tCUYcEDo/?spm_id_from=333.337.search-card.all.click&vd_source=933c136d6897dbf20ff125fb1209208f)\n",
    "- 链表：学习网站：[OI Wiki](https://oi-wiki.org/ds/linked-list/), b站：[链表 数据结构与算法，完整代码动画版，附在线数据结构交互式工具【图码】](https://www.bilibili.com/video/BV1ea4y1r75V/?spm_id_from=333.337.search-card.all.click&vd_source=933c136d6897dbf20ff125fb1209208f)"
   ]
  },
  {
   "cell_type": "markdown",
   "id": "05712090",
   "metadata": {},
   "source": [
    "# 图论"
   ]
  },
  {
   "cell_type": "markdown",
   "id": "f356f940",
   "metadata": {},
   "source": [
    "- "
   ]
  },
  {
   "cell_type": "markdown",
   "id": "b93bad61",
   "metadata": {},
   "source": [
    "# 计算几何"
   ]
  },
  {
   "cell_type": "markdown",
   "id": "34e9e24e",
   "metadata": {},
   "source": [
    "- "
   ]
  },
  {
   "cell_type": "markdown",
   "id": "b8e235a5",
   "metadata": {},
   "source": [
    "# 其他"
   ]
  },
  {
   "cell_type": "markdown",
   "id": "01ed4147",
   "metadata": {},
   "source": [
    "- 高精度：学习网站：[OI Wiki](https://oi-wiki.org/math/bignum/), b站:【董晓算法】[A01 高精度算法 加法](https://www.bilibili.com/video/BV1UG4y1B7ur/?spm_id_from=333.337.search-card.all.click&vd_source=933c136d6897dbf20ff125fb1209208f), [A02 高精度算法 减法](https://www.bilibili.com/video/BV1Ge4y1o7mD?spm_id_from=333.788.videopod.sections&vd_source=933c136d6897dbf20ff125fb1209208f), [A03 高精度算法 乘法](https://www.bilibili.com/video/BV1dG411G7eb?spm_id_from=333.788.videopod.sections&vd_source=933c136d6897dbf20ff125fb1209208f), [A04 高精度算法 除法](https://www.bilibili.com/video/BV1Je4y1o7vR?spm_id_from=333.788.videopod.sections&vd_source=933c136d6897dbf20ff125fb1209208f)\n",
    "- 康托展开：学习网站：[维基百科](https://zh.wikipedia.org/wiki/%E5%BA%B7%E6%89%98%E5%B1%95%E5%BC%80)，B站：[算法讲解146【扩展】康托展开、约瑟夫环、完美洗牌【左程云】](https://www.bilibili.com/video/BV1Dz2eYTE7T/?spm_id_from=333.337.search-card.all.click)\n",
    "- 离散化：学习网站：[OI Wiki](https://oi-wiki.org/misc/discrete/)，b站：[算法讲解048【必备】二维前缀和、二维差分、离散化技巧【左程云】](https://www.bilibili.com/video/BV1Wz4y1K74C/?spm_id_from=333.337.search-card.all.click&vd_source=933c136d6897dbf20ff125fb1209208f)\n",
    "- 约瑟夫环扩展：B站：[算法讲解146【扩展】康托展开、约瑟夫环、完美洗牌【左程云】](https://www.bilibili.com/video/BV1Dz2eYTE7T/?spm_id_from=333.337.search-card.all.click&vd_source=933c136d6897dbf20ff125fb1209208f)\n",
    "- 位运算：[OI Wiki](https://oi-wiki.org/math/bit/), B站：[算法讲解003【入门】二进制和位运算【左程云】](https://www.bilibili.com/video/BV1494y1C72o/?spm_id_from=333.337.search-card.all.click)\n",
    "- 双指针：学习网站：[OI Wiki](https://oi-wiki.org/misc/two-pointer/)，B站：[算法讲解050【必备】双指针技巧与相关题目【左程云】](https://www.bilibili.com/video/BV1V841167Rg/?spm_id_from=333.337.search-card.all.click)"
   ]
  }
 ],
 "metadata": {
  "language_info": {
   "name": "python"
  }
 },
 "nbformat": 4,
 "nbformat_minor": 5
}
